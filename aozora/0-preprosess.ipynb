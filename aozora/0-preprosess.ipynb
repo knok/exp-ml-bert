{
 "cells": [
  {
   "cell_type": "code",
   "execution_count": 3,
   "metadata": {},
   "outputs": [],
   "source": [
    "import zipfile\n",
    "import os\n",
    "import glob\n",
    "import io\n",
    "import re\n",
    "import random"
   ]
  },
  {
   "cell_type": "code",
   "execution_count": 4,
   "metadata": {},
   "outputs": [],
   "source": [
    "akuta_dir = \"akutagawa\"\n",
    "miya_dir = \"miyazawa\"\n",
    "akuta_tsv = \"aozora-akutagawa.tsv\"\n",
    "miya_tsv = \"aozora-miyazawa.tsv\""
   ]
  },
  {
   "cell_type": "code",
   "execution_count": 3,
   "metadata": {},
   "outputs": [],
   "source": [
    "# テキストの下処理\n",
    "def preprocess(file):\n",
    "    kruby = re.compile('｜([^《]+)《[^》]+》')\n",
    "    ruby = re.compile('《[^》]+》')\n",
    "    annotate = re.compile('［＃[^］]+］')\n",
    "    nonpr = re.compile('[\\x00-\\x09\\x0b-\\x1f]+')\n",
    "    # ヘッダの削除\n",
    "    ## ----- が2回出現するまでスキップ\n",
    "    for line in file:\n",
    "        if line.startswith('--------'):\n",
    "            break\n",
    "    for line in file:\n",
    "        if line.startswith('--------'):\n",
    "            break\n",
    "    # 本文の処理\n",
    "    for line in file:\n",
    "        if line.startswith('底本：'): # 本文終わり\n",
    "            break\n",
    "        if line[:-1].strip() == \"\":\n",
    "            continue\n",
    "        # 本文として処理\n",
    "        line = kruby.sub('\\1', line)\n",
    "        line = ruby.sub('', line)\n",
    "        line = annotate.sub('', line)\n",
    "        line = nonpr.sub('', line)\n",
    "        yield line"
   ]
  },
  {
   "cell_type": "code",
   "execution_count": 4,
   "metadata": {},
   "outputs": [],
   "source": [
    "# tsvへの変換\n",
    "def to_tsv(line, cat, num):\n",
    "    ret = \"\\t\".join([cat, str(num), '', line])\n",
    "    return ret"
   ]
  },
  {
   "cell_type": "code",
   "execution_count": 5,
   "metadata": {},
   "outputs": [],
   "source": [
    "# dir上のzipファイル名を取得\n",
    "a_zips = glob.glob(\"%s/*.zip\" % akuta_dir)"
   ]
  },
  {
   "cell_type": "code",
   "execution_count": 6,
   "metadata": {},
   "outputs": [],
   "source": [
    "# 芥川龍之介の著作からある程度ランダムにデータを選んでtsvに出力\n",
    "min_len = 60\n",
    "max_len = 240\n",
    "with open(akuta_tsv, \"w\") as wf:\n",
    "    # 全zipを処理\n",
    "    for fname in a_zips:\n",
    "        with zipfile.ZipFile(fname, 'r') as f:\n",
    "            tfile = f.namelist()[0]\n",
    "            with io.StringIO(f.read(tfile).decode('CP932', 'ignore')) as sf:\n",
    "                for line in preprocess(sf):\n",
    "                    if min_len < len(line) < max_len: # 長さ制限\n",
    "                        tline = to_tsv(line, \"akuta\", 0)\n",
    "                        wf.write(tline)"
   ]
  },
  {
   "cell_type": "code",
   "execution_count": 7,
   "metadata": {},
   "outputs": [],
   "source": [
    "# 宮沢健二の著作からある程度ランダムにデータを選んでtsvに出力\n",
    "m_zips = glob.glob(\"%s/*.zip\" % miya_dir)\n",
    "min_len = 60\n",
    "max_len = 240\n",
    "with open(miya_tsv, \"w\") as wf:\n",
    "    # 全zipを処理\n",
    "    for fname in m_zips:\n",
    "        with zipfile.ZipFile(fname, 'r') as f:\n",
    "            tfile = f.namelist()[0]\n",
    "            with io.StringIO(f.read(tfile).decode('CP932', 'ignore')) as sf:\n",
    "                for line in preprocess(sf):\n",
    "                    if min_len < len(line) < max_len: # 長さ制限\n",
    "                        tline = to_tsv(line, \"miya\", 1)\n",
    "                        wf.write(tline)"
   ]
  },
  {
   "cell_type": "code",
   "execution_count": 6,
   "metadata": {},
   "outputs": [],
   "source": [
    "# 2つのファイルを結合、シャッフル\n",
    "import random\n",
    "\n",
    "random.seed(100)\n",
    "with open(akuta_tsv) as f:\n",
    "    lines = f.readlines()\n",
    "with open(miya_tsv) as f:\n",
    "    lines.extend(f.readlines())\n",
    "random.shuffle(lines)\n",
    "with open(\"aozora-all.tsv\", \"w\") as f:\n",
    "    for line in lines:\n",
    "        f.write(line)\n",
    "#! cat aozora-akutagawa.tsv aozora-miyazawa.tsv | sort -R > aozora-all.tsv"
   ]
  },
  {
   "cell_type": "code",
   "execution_count": 8,
   "metadata": {},
   "outputs": [],
   "source": [
    "# train/dev/test分割\n",
    "train_fname, dev_fname, test_fname = [\"train.tsv\", \"dev.tsv\", \"test.tsv\"]\n",
    "\n",
    "random.seed(101)\n",
    "\n",
    "with open(\"aozora-all.tsv\") as f, open(train_fname, \"w\") as tf, open(dev_fname, \"w\") as df, open(test_fname, \"w\") as ef:\n",
    "    ef.write(\"class\\tsentence\\n\")\n",
    "    for line in f:\n",
    "        v = random.randint(0, 9)\n",
    "        if v == 8:\n",
    "            df.write(line)\n",
    "        elif v == 9:\n",
    "            rows = line.split('\\t')\n",
    "            ef.write(\"\\t\".join([rows[1], rows[3]]))\n",
    "        else:\n",
    "            tf.write(line)"
   ]
  },
  {
   "cell_type": "code",
   "execution_count": null,
   "metadata": {},
   "outputs": [],
   "source": []
  }
 ],
 "metadata": {
  "kernelspec": {
   "display_name": "Python 3",
   "language": "python",
   "name": "python3"
  },
  "language_info": {
   "codemirror_mode": {
    "name": "ipython",
    "version": 3
   },
   "file_extension": ".py",
   "mimetype": "text/x-python",
   "name": "python",
   "nbconvert_exporter": "python",
   "pygments_lexer": "ipython3",
   "version": "3.5.3"
  }
 },
 "nbformat": 4,
 "nbformat_minor": 2
}
