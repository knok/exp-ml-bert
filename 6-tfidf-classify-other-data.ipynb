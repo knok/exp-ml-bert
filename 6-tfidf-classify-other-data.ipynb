{
 "cells": [
  {
   "cell_type": "code",
   "execution_count": 1,
   "metadata": {},
   "outputs": [],
   "source": [
    "import sys\n",
    "import os\n",
    "from sklearn.feature_extraction.text import TfidfVectorizer\n",
    "from sklearn.naive_bayes import MultinomialNB"
   ]
  },
  {
   "cell_type": "code",
   "execution_count": 2,
   "metadata": {},
   "outputs": [],
   "source": [
    "sys.path.append('./bert')"
   ]
  },
  {
   "cell_type": "code",
   "execution_count": 3,
   "metadata": {},
   "outputs": [],
   "source": [
    "import tokenization"
   ]
  },
  {
   "cell_type": "code",
   "execution_count": 4,
   "metadata": {},
   "outputs": [],
   "source": [
    "vocab_path = \"multilingual_L-12_H-768_A-12/vocab.txt\"\n",
    "tokenizer = tokenization.FullTokenizer(vocab_file=vocab_path, do_lower_case=True)"
   ]
  },
  {
   "cell_type": "code",
   "execution_count": 5,
   "metadata": {},
   "outputs": [],
   "source": [
    "# read tsv\n",
    "# テキストはBERTのトークナイザを用いて下処理\n",
    "def read_tsv(fname):\n",
    "    data = {\"data\": [], \"target\": []}\n",
    "    with open(fname) as f:\n",
    "        for line in f:\n",
    "            row = line.split('\\t')\n",
    "            label = int(row[1])\n",
    "            sent = row[3]\n",
    "            sent = \" \".join(tokenizer.tokenize(sent))\n",
    "            data[\"data\"].append(sent)\n",
    "            data[\"target\"].append(label)\n",
    "    return data\n",
    "\n",
    "def make_vectorizer(data):\n",
    "    vec = TfidfVectorizer()\n",
    "    vec.fit(data['data'])\n",
    "    return vec\n",
    "\n",
    "def make_data(vec, data):\n",
    "    X = vec.transform(data[\"data\"])\n",
    "    y = data[\"target\"]\n",
    "    return X, y\n",
    "\n",
    "def train_classifier(X, y):\n",
    "    clf = MultinomialNB()\n",
    "    clf.fit(X, y)\n",
    "    return clf"
   ]
  },
  {
   "cell_type": "code",
   "execution_count": 6,
   "metadata": {},
   "outputs": [
    {
     "name": "stdout",
     "output_type": "stream",
     "text": [
      "Train accuracy: 0.883935\n",
      "Test accuracy: 0.780899\n"
     ]
    }
   ],
   "source": [
    "data = read_tsv(\"swp/train.tsv\")\n",
    "vec = make_vectorizer(data)\n",
    "X, y = make_data(vec, data)\n",
    "clf = train_classifier(X, y)\n",
    "print(\"Train accuracy: %f\" % clf.score(X, y))\n",
    "\n",
    "test = read_tsv(\"swp/dev.tsv\")\n",
    "X, y = make_data(vec, test)\n",
    "print(\"Test accuracy: %f\" % clf.score(X, y))"
   ]
  },
  {
   "cell_type": "code",
   "execution_count": 7,
   "metadata": {},
   "outputs": [
    {
     "name": "stdout",
     "output_type": "stream",
     "text": [
      "Train accuracy: 0.903140\n",
      "Test accuracy: 0.886192\n"
     ]
    }
   ],
   "source": [
    "data = read_tsv(\"aozora/train.tsv\")\n",
    "vec = make_vectorizer(data)\n",
    "X, y = make_data(vec, data)\n",
    "clf = train_classifier(X, y)\n",
    "print(\"Train accuracy: %f\" % clf.score(X, y))\n",
    "\n",
    "test = read_tsv(\"aozora/dev.tsv\")\n",
    "X, y = make_data(vec, test)\n",
    "print(\"Test accuracy: %f\" % clf.score(X, y))"
   ]
  },
  {
   "cell_type": "code",
   "execution_count": null,
   "metadata": {},
   "outputs": [],
   "source": []
  }
 ],
 "metadata": {
  "kernelspec": {
   "display_name": "Python 3",
   "language": "python",
   "name": "python3"
  },
  "language_info": {
   "codemirror_mode": {
    "name": "ipython",
    "version": 3
   },
   "file_extension": ".py",
   "mimetype": "text/x-python",
   "name": "python",
   "nbconvert_exporter": "python",
   "pygments_lexer": "ipython3",
   "version": "3.5.3"
  }
 },
 "nbformat": 4,
 "nbformat_minor": 2
}
