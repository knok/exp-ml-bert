{
 "cells": [
  {
   "cell_type": "markdown",
   "metadata": {},
   "source": [
    "# ライブドアニュースコーパスのダウンロード\n",
    "\n",
    "Google Driveにミラーを用意しています。オリジナルは[https://www.rondhuit.com/download.html](https://www.rondhuit.com/download.html)にあります。\n",
    "論文などで引用する際は、リンク先を参照ください。"
   ]
  },
  {
   "cell_type": "code",
   "execution_count": 6,
   "metadata": {},
   "outputs": [],
   "source": [
    "from google_drive_downloader import GoogleDriveDownloader as gdd\n",
    "\n",
    "tgz_fname = \"ldcc-20140209.tar.gz\""
   ]
  },
  {
   "cell_type": "code",
   "execution_count": 3,
   "metadata": {},
   "outputs": [
    {
     "name": "stdout",
     "output_type": "stream",
     "text": [
      "Downloading 1b-llzNQdmKIp0FYMwzGOKmXdQUNpNXC8 into ./ldcc-20140209.tar.gz... Done.\n"
     ]
    }
   ],
   "source": [
    "# Google driverからダウンロード\n",
    "gdd.download_file_from_google_drive(file_id=\"1b-llzNQdmKIp0FYMwzGOKmXdQUNpNXC8\",\n",
    "                                   dest_path=\"./ldcc-20140209.tar.gz\", unzip=False)"
   ]
  },
  {
   "cell_type": "code",
   "execution_count": 5,
   "metadata": {},
   "outputs": [
    {
     "data": {
      "text/plain": [
       "('ldcc-20140209.tar.gz', <http.client.HTTPMessage at 0x7ff9c2e04da0>)"
      ]
     },
     "execution_count": 5,
     "metadata": {},
     "output_type": "execute_result"
    }
   ],
   "source": [
    "# 株式会社ロンウィットからダウンロード\n",
    "#import urllib.request\n",
    "#tgz_url = \"https://www.rondhuit.com/download/ldcc-20140209.tar.gz\"\n",
    "#urllib.request.urlretrieve(tgz_url, \"ldcc-20140209.tar.gz\")"
   ]
  },
  {
   "cell_type": "markdown",
   "metadata": {},
   "source": [
    "# 分類用データへの加工\n",
    "\n",
    "* tar.gzファイルから2つのジャンルを対象にする\n",
    "  * text/GENRE/GENRE-#######.txt\n",
    "    * 3行目がタイトルなのでこれを分類対象とする\n",
    "      * 文章の前後についている【】を削除\n",
    "* tsvファイルとして出力\n",
    "  * フィールド構造\n",
    "    1. (未使用)\n",
    "    2. クラス (0/1)\n",
    "    3. (未使用)\n",
    "    4. テキスト"
   ]
  },
  {
   "cell_type": "code",
   "execution_count": 17,
   "metadata": {},
   "outputs": [],
   "source": [
    "import tarfile\n",
    "import csv\n",
    "import re\n",
    "\n",
    "target_genre = [\"it-life-hack\", \"kaden-channel\"]\n",
    "\n",
    "zero_fnames = []\n",
    "one_fnames = []\n",
    "tsv_fname = \"all.tsv\"\n",
    "\n",
    "brackets_tail = re.compile('【[^】]*】$')\n",
    "brackets_head = re.compile('^【[^】]*】')\n",
    "\n",
    "def remove_brackets(inp):\n",
    "    output = re.sub(brackets_head, '',\n",
    "                   re.sub(brackets_tail, '', inp))\n",
    "    return output\n",
    "\n",
    "def read_title(f):\n",
    "    # 2行スキップ\n",
    "    next(f)\n",
    "    next(f)\n",
    "    title = next(f) # 3行目を返す\n",
    "    title = remove_brackets(title.decode('utf-8'))\n",
    "    return title[:-1]\n",
    "\n",
    "with tarfile.open(tgz_fname) as tf:\n",
    "    # 対象ファイルの選定\n",
    "    for ti in tf:\n",
    "        # ライセンスファイルはスキップ\n",
    "        if \"LICENSE.txt\" in ti.name:\n",
    "            continue\n",
    "        if target_genre[0] in ti.name and ti.name.endswith(\".txt\"):\n",
    "            zero_fnames.append(ti.name)\n",
    "            continue\n",
    "        if target_genre[1] in ti.name and ti.name.endswith(\".txt\"):\n",
    "            one_fnames.append(ti.name)\n",
    "    with open(tsv_fname, \"w\") as wf:\n",
    "        writer = csv.writer(wf, delimiter='\\t')\n",
    "        # ラベル 0\n",
    "        for name in zero_fnames:\n",
    "            f = tf.extractfile(name)\n",
    "            title = read_title(f)\n",
    "            row = [target_genre[0], 0, '', title]\n",
    "            writer.writerow(row)\n",
    "        # ラベル 1\n",
    "        for name in one_fnames:\n",
    "            f = tf.extractfile(name)\n",
    "            title = read_title(f)\n",
    "            row = [target_genre[1], 1, '', title]\n",
    "            writer.writerow(row)\n"
   ]
  },
  {
   "cell_type": "markdown",
   "metadata": {},
   "source": [
    "# データのシャッフルと分割\n",
    "\n",
    "* train/dev/test : 8:1:1 で分割"
   ]
  },
  {
   "cell_type": "code",
   "execution_count": 9,
   "metadata": {},
   "outputs": [],
   "source": [
    "import random\n",
    "\n",
    "random.seed(100)\n",
    "with open(\"all.tsv\", 'r') as f, open(\"rand-all.tsv\", \"w\") as wf:\n",
    "    lines = f.readlines()\n",
    "    random.shuffle(lines)\n",
    "    for line in lines:\n",
    "        wf.write(line)"
   ]
  },
  {
   "cell_type": "code",
   "execution_count": 10,
   "metadata": {},
   "outputs": [],
   "source": [
    "random.seed(101)\n",
    "\n",
    "train_fname, dev_fname, test_fname = [\"train.tsv\", \"dev.tsv\", \"test.tsv\"]\n",
    "\n",
    "with open(\"rand-all.tsv\") as f, open(train_fname, \"w\") as tf, open(dev_fname, \"w\") as df, open(test_fname, \"w\") as ef:\n",
    "    ef.write(\"class\\tsentence\\n\")\n",
    "    for line in f:\n",
    "        v = random.randint(0, 9)\n",
    "        if v == 8:\n",
    "            df.write(line)\n",
    "        elif v == 9:\n",
    "            row = line.split('\\t')\n",
    "            ef.write(\"\\t\".join([row[1], row[3]]))\n",
    "        else:\n",
    "            tf.write(line)"
   ]
  },
  {
   "cell_type": "markdown",
   "metadata": {},
   "source": [
    "# BERTのセットアップ\n",
    "\n",
    "* git repoの用意\n",
    "* Multilingualモデルの用意"
   ]
  },
  {
   "cell_type": "code",
   "execution_count": 22,
   "metadata": {},
   "outputs": [],
   "source": [
    "import subprocess\n",
    "import os\n",
    "\n",
    "if not os.path.exists(\"bert\"):\n",
    "    subprocess.call(\"git clone https://github.com/google-research/bert\".split())"
   ]
  },
  {
   "cell_type": "code",
   "execution_count": 23,
   "metadata": {},
   "outputs": [
    {
     "data": {
      "text/plain": [
       "('multilingual_L-12_H-768_A-12.zip',\n",
       " <http.client.HTTPMessage at 0x7ff9c05f6da0>)"
      ]
     },
     "execution_count": 23,
     "metadata": {},
     "output_type": "execute_result"
    }
   ],
   "source": [
    "import urllib.request\n",
    "ml_url = \"https://storage.googleapis.com/bert_models/2018_11_03/multilingual_L-12_H-768_A-12.zip\"\n",
    "urllib.request.urlretrieve(ml_url, \"multilingual_L-12_H-768_A-12.zip\")"
   ]
  },
  {
   "cell_type": "code",
   "execution_count": 24,
   "metadata": {},
   "outputs": [
    {
     "name": "stdout",
     "output_type": "stream",
     "text": [
      "Archive:  multilingual_L-12_H-768_A-12.zip\n",
      "   creating: multilingual_L-12_H-768_A-12/\n",
      "  inflating: multilingual_L-12_H-768_A-12/bert_model.ckpt.meta  \n",
      "  inflating: multilingual_L-12_H-768_A-12/bert_model.ckpt.data-00000-of-00001  \n",
      "  inflating: multilingual_L-12_H-768_A-12/vocab.txt  \n",
      "  inflating: multilingual_L-12_H-768_A-12/bert_model.ckpt.index  \n",
      "  inflating: multilingual_L-12_H-768_A-12/bert_config.json  \n"
     ]
    }
   ],
   "source": [
    "! unzip multilingual_L-12_H-768_A-12.zip"
   ]
  },
  {
   "cell_type": "code",
   "execution_count": null,
   "metadata": {},
   "outputs": [],
   "source": []
  }
 ],
 "metadata": {
  "kernelspec": {
   "display_name": "Python 3",
   "language": "python",
   "name": "python3"
  },
  "language_info": {
   "codemirror_mode": {
    "name": "ipython",
    "version": 3
   },
   "file_extension": ".py",
   "mimetype": "text/x-python",
   "name": "python",
   "nbconvert_exporter": "python",
   "pygments_lexer": "ipython3",
   "version": "3.5.3"
  }
 },
 "nbformat": 4,
 "nbformat_minor": 2
}
