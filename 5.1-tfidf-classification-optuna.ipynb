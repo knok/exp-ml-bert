{
 "cells": [
  {
   "cell_type": "code",
   "execution_count": 1,
   "metadata": {},
   "outputs": [],
   "source": [
    "import sys\n",
    "import os\n",
    "from sklearn.feature_extraction.text import TfidfVectorizer\n",
    "from sklearn.naive_bayes import MultinomialNB\n",
    "import optuna"
   ]
  },
  {
   "cell_type": "code",
   "execution_count": 2,
   "metadata": {},
   "outputs": [],
   "source": [
    "sys.path.append('./bert')"
   ]
  },
  {
   "cell_type": "code",
   "execution_count": 3,
   "metadata": {},
   "outputs": [],
   "source": [
    "import tokenization"
   ]
  },
  {
   "cell_type": "code",
   "execution_count": 4,
   "metadata": {},
   "outputs": [],
   "source": [
    "vocab_path = \"multilingual_L-12_H-768_A-12/vocab.txt\"\n",
    "tokenizer = tokenization.FullTokenizer(vocab_file=vocab_path, do_lower_case=True)"
   ]
  },
  {
   "cell_type": "code",
   "execution_count": 5,
   "metadata": {},
   "outputs": [],
   "source": [
    "# read tsv\n",
    "# テキストはBERTのトークナイザを用いて下処理\n",
    "def read_tsv(fname):\n",
    "    data = {\"data\": [], \"target\": []}\n",
    "    with open(fname) as f:\n",
    "        for line in f:\n",
    "            row = line.split('\\t')\n",
    "            label = int(row[1])\n",
    "            sent = row[3]\n",
    "            sent = \" \".join(tokenizer.tokenize(sent))\n",
    "            data[\"data\"].append(sent)\n",
    "            data[\"target\"].append(label)\n",
    "    return data"
   ]
  },
  {
   "cell_type": "code",
   "execution_count": 6,
   "metadata": {},
   "outputs": [
    {
     "data": {
      "text/plain": [
       "TfidfVectorizer(analyzer='word', binary=False, decode_error='strict',\n",
       "        dtype=<class 'numpy.int64'>, encoding='utf-8', input='content',\n",
       "        lowercase=True, max_df=1.0, max_features=None, min_df=1,\n",
       "        ngram_range=(1, 1), norm='l2', preprocessor=None, smooth_idf=True,\n",
       "        stop_words=None, strip_accents=None, sublinear_tf=False,\n",
       "        token_pattern='(?u)\\\\b\\\\w\\\\w+\\\\b', tokenizer=None, use_idf=True,\n",
       "        vocabulary=None)"
      ]
     },
     "execution_count": 6,
     "metadata": {},
     "output_type": "execute_result"
    }
   ],
   "source": [
    "# 語彙からTF-IDFに基づき特徴ベクトルを生成する\n",
    "vectorrizer = TfidfVectorizer()\n",
    "train_data = read_tsv('train.tsv')\n",
    "vectorrizer.fit(train_data['data'])"
   ]
  },
  {
   "cell_type": "code",
   "execution_count": 7,
   "metadata": {},
   "outputs": [],
   "source": [
    "# 訓練用データをベクトル化\n",
    "X = vectorrizer.transform(train_data[\"data\"])\n",
    "y = train_data[\"target\"]"
   ]
  },
  {
   "cell_type": "markdown",
   "metadata": {},
   "source": [
    "# Optunaの最適化を考える\n",
    "## MultinominalNBのHP\n",
    "1. alpha: 0-1.0\n",
    "2. fit_prior: True/False"
   ]
  },
  {
   "cell_type": "code",
   "execution_count": 13,
   "metadata": {},
   "outputs": [],
   "source": [
    "# testデータ\n",
    "test_data = read_tsv(\"dev.tsv\")\n",
    "X_test = vectorrizer.transform(test_data[\"data\"])\n",
    "y_test = test_data[\"target\"]\n",
    "#clf.score(X_test, y_test)"
   ]
  },
  {
   "cell_type": "code",
   "execution_count": 14,
   "metadata": {},
   "outputs": [],
   "source": [
    "def objective(trial):\n",
    "    # \n",
    "    alpha = trial.suggest_uniform('alpha', 0.0, 1.0)\n",
    "    fit_p = trial.suggest_categorical('fit_prior', ['True', 'False'])\n",
    "    clf = MultinomialNB(alpha=alpha, fit_prior=fit_p)\n",
    "    clf.fit(X, y)\n",
    "    #acc = clf.score(X, y)\n",
    "    acc = clf.score(X_test, y_test)\n",
    "    return 1.0 - acc"
   ]
  },
  {
   "cell_type": "code",
   "execution_count": 15,
   "metadata": {},
   "outputs": [
    {
     "name": "stderr",
     "output_type": "stream",
     "text": [
      "[I 2018-12-07 15:23:06,420] Finished a trial resulted in value: 0.21468926553672318. Current best value is 0.21468926553672318 with parameters: {'alpha': 0.17736093854970547, 'fit_prior': 'True'}.\n",
      "[I 2018-12-07 15:23:06,427] Finished a trial resulted in value: 0.23163841807909602. Current best value is 0.21468926553672318 with parameters: {'alpha': 0.17736093854970547, 'fit_prior': 'True'}.\n",
      "[I 2018-12-07 15:23:06,434] Finished a trial resulted in value: 0.24293785310734461. Current best value is 0.21468926553672318 with parameters: {'alpha': 0.17736093854970547, 'fit_prior': 'True'}.\n",
      "[I 2018-12-07 15:23:06,442] Finished a trial resulted in value: 0.24293785310734461. Current best value is 0.21468926553672318 with parameters: {'alpha': 0.17736093854970547, 'fit_prior': 'True'}.\n",
      "[I 2018-12-07 15:23:06,454] Finished a trial resulted in value: 0.23728813559322037. Current best value is 0.21468926553672318 with parameters: {'alpha': 0.17736093854970547, 'fit_prior': 'True'}.\n",
      "[I 2018-12-07 15:23:06,468] Finished a trial resulted in value: 0.21468926553672318. Current best value is 0.21468926553672318 with parameters: {'alpha': 0.17736093854970547, 'fit_prior': 'True'}.\n",
      "[I 2018-12-07 15:23:06,483] Finished a trial resulted in value: 0.24293785310734461. Current best value is 0.21468926553672318 with parameters: {'alpha': 0.17736093854970547, 'fit_prior': 'True'}.\n",
      "[I 2018-12-07 15:23:06,495] Finished a trial resulted in value: 0.22033898305084743. Current best value is 0.21468926553672318 with parameters: {'alpha': 0.17736093854970547, 'fit_prior': 'True'}.\n",
      "[I 2018-12-07 15:23:06,510] Finished a trial resulted in value: 0.22033898305084743. Current best value is 0.21468926553672318 with parameters: {'alpha': 0.17736093854970547, 'fit_prior': 'True'}.\n",
      "[I 2018-12-07 15:23:06,524] Finished a trial resulted in value: 0.23163841807909602. Current best value is 0.21468926553672318 with parameters: {'alpha': 0.17736093854970547, 'fit_prior': 'True'}.\n",
      "[I 2018-12-07 15:23:06,538] Finished a trial resulted in value: 0.20903954802259883. Current best value is 0.20903954802259883 with parameters: {'alpha': 0.011355165226968666, 'fit_prior': 'False'}.\n",
      "[I 2018-12-07 15:23:06,551] Finished a trial resulted in value: 0.20903954802259883. Current best value is 0.20903954802259883 with parameters: {'alpha': 0.011355165226968666, 'fit_prior': 'False'}.\n",
      "[I 2018-12-07 15:23:06,563] Finished a trial resulted in value: 0.20903954802259883. Current best value is 0.20903954802259883 with parameters: {'alpha': 0.011355165226968666, 'fit_prior': 'False'}.\n",
      "[I 2018-12-07 15:23:06,574] Finished a trial resulted in value: 0.20903954802259883. Current best value is 0.20903954802259883 with parameters: {'alpha': 0.011355165226968666, 'fit_prior': 'False'}.\n",
      "[I 2018-12-07 15:23:06,587] Finished a trial resulted in value: 0.20903954802259883. Current best value is 0.20903954802259883 with parameters: {'alpha': 0.011355165226968666, 'fit_prior': 'False'}.\n",
      "[I 2018-12-07 15:23:06,598] Finished a trial resulted in value: 0.20903954802259883. Current best value is 0.20903954802259883 with parameters: {'alpha': 0.011355165226968666, 'fit_prior': 'False'}.\n",
      "[I 2018-12-07 15:23:06,608] Finished a trial resulted in value: 0.20903954802259883. Current best value is 0.20903954802259883 with parameters: {'alpha': 0.011355165226968666, 'fit_prior': 'False'}.\n",
      "[I 2018-12-07 15:23:06,617] Finished a trial resulted in value: 0.20903954802259883. Current best value is 0.20903954802259883 with parameters: {'alpha': 0.011355165226968666, 'fit_prior': 'False'}.\n",
      "[I 2018-12-07 15:23:06,629] Finished a trial resulted in value: 0.20903954802259883. Current best value is 0.20903954802259883 with parameters: {'alpha': 0.011355165226968666, 'fit_prior': 'False'}.\n",
      "[I 2018-12-07 15:23:06,645] Finished a trial resulted in value: 0.20903954802259883. Current best value is 0.20903954802259883 with parameters: {'alpha': 0.011355165226968666, 'fit_prior': 'False'}.\n",
      "[I 2018-12-07 15:23:06,659] Finished a trial resulted in value: 0.20903954802259883. Current best value is 0.20903954802259883 with parameters: {'alpha': 0.011355165226968666, 'fit_prior': 'False'}.\n",
      "[I 2018-12-07 15:23:06,673] Finished a trial resulted in value: 0.20903954802259883. Current best value is 0.20903954802259883 with parameters: {'alpha': 0.011355165226968666, 'fit_prior': 'False'}.\n",
      "[I 2018-12-07 15:23:06,692] Finished a trial resulted in value: 0.20903954802259883. Current best value is 0.20903954802259883 with parameters: {'alpha': 0.011355165226968666, 'fit_prior': 'False'}.\n",
      "[I 2018-12-07 15:23:06,715] Finished a trial resulted in value: 0.20903954802259883. Current best value is 0.20903954802259883 with parameters: {'alpha': 0.011355165226968666, 'fit_prior': 'False'}.\n",
      "[I 2018-12-07 15:23:06,734] Finished a trial resulted in value: 0.20903954802259883. Current best value is 0.20903954802259883 with parameters: {'alpha': 0.011355165226968666, 'fit_prior': 'False'}.\n",
      "[I 2018-12-07 15:23:06,754] Finished a trial resulted in value: 0.21468926553672318. Current best value is 0.20903954802259883 with parameters: {'alpha': 0.011355165226968666, 'fit_prior': 'False'}.\n",
      "[I 2018-12-07 15:23:06,772] Finished a trial resulted in value: 0.20903954802259883. Current best value is 0.20903954802259883 with parameters: {'alpha': 0.011355165226968666, 'fit_prior': 'False'}.\n",
      "[I 2018-12-07 15:23:06,791] Finished a trial resulted in value: 0.20903954802259883. Current best value is 0.20903954802259883 with parameters: {'alpha': 0.011355165226968666, 'fit_prior': 'False'}.\n",
      "[I 2018-12-07 15:23:06,813] Finished a trial resulted in value: 0.20903954802259883. Current best value is 0.20903954802259883 with parameters: {'alpha': 0.011355165226968666, 'fit_prior': 'False'}.\n",
      "[I 2018-12-07 15:23:06,831] Finished a trial resulted in value: 0.21468926553672318. Current best value is 0.20903954802259883 with parameters: {'alpha': 0.011355165226968666, 'fit_prior': 'False'}.\n",
      "[I 2018-12-07 15:23:06,849] Finished a trial resulted in value: 0.20903954802259883. Current best value is 0.20903954802259883 with parameters: {'alpha': 0.011355165226968666, 'fit_prior': 'False'}.\n",
      "[I 2018-12-07 15:23:06,873] Finished a trial resulted in value: 0.21468926553672318. Current best value is 0.20903954802259883 with parameters: {'alpha': 0.011355165226968666, 'fit_prior': 'False'}.\n",
      "[I 2018-12-07 15:23:06,893] Finished a trial resulted in value: 0.21468926553672318. Current best value is 0.20903954802259883 with parameters: {'alpha': 0.011355165226968666, 'fit_prior': 'False'}.\n",
      "[I 2018-12-07 15:23:06,914] Finished a trial resulted in value: 0.20903954802259883. Current best value is 0.20903954802259883 with parameters: {'alpha': 0.011355165226968666, 'fit_prior': 'False'}.\n",
      "[I 2018-12-07 15:23:06,934] Finished a trial resulted in value: 0.21468926553672318. Current best value is 0.20903954802259883 with parameters: {'alpha': 0.011355165226968666, 'fit_prior': 'False'}.\n",
      "[I 2018-12-07 15:23:06,959] Finished a trial resulted in value: 0.20903954802259883. Current best value is 0.20903954802259883 with parameters: {'alpha': 0.011355165226968666, 'fit_prior': 'False'}.\n",
      "[I 2018-12-07 15:23:06,984] Finished a trial resulted in value: 0.22033898305084743. Current best value is 0.20903954802259883 with parameters: {'alpha': 0.011355165226968666, 'fit_prior': 'False'}.\n",
      "[I 2018-12-07 15:23:07,010] Finished a trial resulted in value: 0.23163841807909602. Current best value is 0.20903954802259883 with parameters: {'alpha': 0.011355165226968666, 'fit_prior': 'False'}.\n",
      "[I 2018-12-07 15:23:07,030] Finished a trial resulted in value: 0.20903954802259883. Current best value is 0.20903954802259883 with parameters: {'alpha': 0.011355165226968666, 'fit_prior': 'False'}.\n",
      "[I 2018-12-07 15:23:07,048] Finished a trial resulted in value: 0.24293785310734461. Current best value is 0.20903954802259883 with parameters: {'alpha': 0.011355165226968666, 'fit_prior': 'False'}.\n",
      "[I 2018-12-07 15:23:07,070] Finished a trial resulted in value: 0.20903954802259883. Current best value is 0.20903954802259883 with parameters: {'alpha': 0.011355165226968666, 'fit_prior': 'False'}.\n"
     ]
    },
    {
     "name": "stderr",
     "output_type": "stream",
     "text": [
      "[I 2018-12-07 15:23:07,097] Finished a trial resulted in value: 0.23728813559322037. Current best value is 0.20903954802259883 with parameters: {'alpha': 0.011355165226968666, 'fit_prior': 'False'}.\n",
      "[I 2018-12-07 15:23:07,116] Finished a trial resulted in value: 0.21468926553672318. Current best value is 0.20903954802259883 with parameters: {'alpha': 0.011355165226968666, 'fit_prior': 'False'}.\n",
      "[I 2018-12-07 15:23:07,136] Finished a trial resulted in value: 0.20903954802259883. Current best value is 0.20903954802259883 with parameters: {'alpha': 0.011355165226968666, 'fit_prior': 'False'}.\n",
      "[I 2018-12-07 15:23:07,165] Finished a trial resulted in value: 0.20903954802259883. Current best value is 0.20903954802259883 with parameters: {'alpha': 0.011355165226968666, 'fit_prior': 'False'}.\n",
      "[I 2018-12-07 15:23:07,190] Finished a trial resulted in value: 0.21468926553672318. Current best value is 0.20903954802259883 with parameters: {'alpha': 0.011355165226968666, 'fit_prior': 'False'}.\n",
      "[I 2018-12-07 15:23:07,220] Finished a trial resulted in value: 0.21468926553672318. Current best value is 0.20903954802259883 with parameters: {'alpha': 0.011355165226968666, 'fit_prior': 'False'}.\n",
      "[I 2018-12-07 15:23:07,253] Finished a trial resulted in value: 0.20903954802259883. Current best value is 0.20903954802259883 with parameters: {'alpha': 0.011355165226968666, 'fit_prior': 'False'}.\n",
      "[I 2018-12-07 15:23:07,279] Finished a trial resulted in value: 0.23163841807909602. Current best value is 0.20903954802259883 with parameters: {'alpha': 0.011355165226968666, 'fit_prior': 'False'}.\n",
      "[I 2018-12-07 15:23:07,304] Finished a trial resulted in value: 0.20903954802259883. Current best value is 0.20903954802259883 with parameters: {'alpha': 0.011355165226968666, 'fit_prior': 'False'}.\n",
      "[I 2018-12-07 15:23:07,332] Finished a trial resulted in value: 0.22033898305084743. Current best value is 0.20903954802259883 with parameters: {'alpha': 0.011355165226968666, 'fit_prior': 'False'}.\n",
      "[I 2018-12-07 15:23:07,359] Finished a trial resulted in value: 0.20903954802259883. Current best value is 0.20903954802259883 with parameters: {'alpha': 0.011355165226968666, 'fit_prior': 'False'}.\n",
      "[I 2018-12-07 15:23:07,383] Finished a trial resulted in value: 0.20903954802259883. Current best value is 0.20903954802259883 with parameters: {'alpha': 0.011355165226968666, 'fit_prior': 'False'}.\n",
      "[I 2018-12-07 15:23:07,416] Finished a trial resulted in value: 0.20903954802259883. Current best value is 0.20903954802259883 with parameters: {'alpha': 0.011355165226968666, 'fit_prior': 'False'}.\n",
      "[I 2018-12-07 15:23:07,444] Finished a trial resulted in value: 0.20903954802259883. Current best value is 0.20903954802259883 with parameters: {'alpha': 0.011355165226968666, 'fit_prior': 'False'}.\n",
      "[I 2018-12-07 15:23:07,468] Finished a trial resulted in value: 0.21468926553672318. Current best value is 0.20903954802259883 with parameters: {'alpha': 0.011355165226968666, 'fit_prior': 'False'}.\n",
      "[I 2018-12-07 15:23:07,501] Finished a trial resulted in value: 0.24293785310734461. Current best value is 0.20903954802259883 with parameters: {'alpha': 0.011355165226968666, 'fit_prior': 'False'}.\n",
      "[I 2018-12-07 15:23:07,525] Finished a trial resulted in value: 0.23163841807909602. Current best value is 0.20903954802259883 with parameters: {'alpha': 0.011355165226968666, 'fit_prior': 'False'}.\n",
      "[I 2018-12-07 15:23:07,552] Finished a trial resulted in value: 0.22033898305084743. Current best value is 0.20903954802259883 with parameters: {'alpha': 0.011355165226968666, 'fit_prior': 'False'}.\n",
      "[I 2018-12-07 15:23:07,578] Finished a trial resulted in value: 0.20903954802259883. Current best value is 0.20903954802259883 with parameters: {'alpha': 0.011355165226968666, 'fit_prior': 'False'}.\n",
      "[I 2018-12-07 15:23:07,603] Finished a trial resulted in value: 0.20903954802259883. Current best value is 0.20903954802259883 with parameters: {'alpha': 0.011355165226968666, 'fit_prior': 'False'}.\n",
      "[I 2018-12-07 15:23:07,627] Finished a trial resulted in value: 0.20903954802259883. Current best value is 0.20903954802259883 with parameters: {'alpha': 0.011355165226968666, 'fit_prior': 'False'}.\n",
      "[I 2018-12-07 15:23:07,656] Finished a trial resulted in value: 0.20903954802259883. Current best value is 0.20903954802259883 with parameters: {'alpha': 0.011355165226968666, 'fit_prior': 'False'}.\n",
      "[I 2018-12-07 15:23:07,680] Finished a trial resulted in value: 0.21468926553672318. Current best value is 0.20903954802259883 with parameters: {'alpha': 0.011355165226968666, 'fit_prior': 'False'}.\n",
      "[I 2018-12-07 15:23:07,704] Finished a trial resulted in value: 0.20903954802259883. Current best value is 0.20903954802259883 with parameters: {'alpha': 0.011355165226968666, 'fit_prior': 'False'}.\n",
      "[I 2018-12-07 15:23:07,728] Finished a trial resulted in value: 0.20903954802259883. Current best value is 0.20903954802259883 with parameters: {'alpha': 0.011355165226968666, 'fit_prior': 'False'}.\n",
      "[I 2018-12-07 15:23:07,755] Finished a trial resulted in value: 0.20903954802259883. Current best value is 0.20903954802259883 with parameters: {'alpha': 0.011355165226968666, 'fit_prior': 'False'}.\n",
      "[I 2018-12-07 15:23:07,778] Finished a trial resulted in value: 0.21468926553672318. Current best value is 0.20903954802259883 with parameters: {'alpha': 0.011355165226968666, 'fit_prior': 'False'}.\n",
      "[I 2018-12-07 15:23:07,803] Finished a trial resulted in value: 0.20903954802259883. Current best value is 0.20903954802259883 with parameters: {'alpha': 0.011355165226968666, 'fit_prior': 'False'}.\n",
      "[I 2018-12-07 15:23:07,826] Finished a trial resulted in value: 0.20903954802259883. Current best value is 0.20903954802259883 with parameters: {'alpha': 0.011355165226968666, 'fit_prior': 'False'}.\n",
      "[I 2018-12-07 15:23:07,853] Finished a trial resulted in value: 0.20903954802259883. Current best value is 0.20903954802259883 with parameters: {'alpha': 0.011355165226968666, 'fit_prior': 'False'}.\n",
      "[I 2018-12-07 15:23:07,876] Finished a trial resulted in value: 0.20903954802259883. Current best value is 0.20903954802259883 with parameters: {'alpha': 0.011355165226968666, 'fit_prior': 'False'}.\n",
      "[I 2018-12-07 15:23:07,901] Finished a trial resulted in value: 0.20903954802259883. Current best value is 0.20903954802259883 with parameters: {'alpha': 0.011355165226968666, 'fit_prior': 'False'}.\n",
      "[I 2018-12-07 15:23:07,926] Finished a trial resulted in value: 0.20903954802259883. Current best value is 0.20903954802259883 with parameters: {'alpha': 0.011355165226968666, 'fit_prior': 'False'}.\n",
      "[I 2018-12-07 15:23:07,950] Finished a trial resulted in value: 0.20903954802259883. Current best value is 0.20903954802259883 with parameters: {'alpha': 0.011355165226968666, 'fit_prior': 'False'}.\n",
      "[I 2018-12-07 15:23:07,984] Finished a trial resulted in value: 0.20903954802259883. Current best value is 0.20903954802259883 with parameters: {'alpha': 0.011355165226968666, 'fit_prior': 'False'}.\n",
      "[I 2018-12-07 15:23:08,007] Finished a trial resulted in value: 0.20903954802259883. Current best value is 0.20903954802259883 with parameters: {'alpha': 0.011355165226968666, 'fit_prior': 'False'}.\n",
      "[I 2018-12-07 15:23:08,029] Finished a trial resulted in value: 0.24293785310734461. Current best value is 0.20903954802259883 with parameters: {'alpha': 0.011355165226968666, 'fit_prior': 'False'}.\n",
      "[I 2018-12-07 15:23:08,052] Finished a trial resulted in value: 0.20903954802259883. Current best value is 0.20903954802259883 with parameters: {'alpha': 0.011355165226968666, 'fit_prior': 'False'}.\n",
      "[I 2018-12-07 15:23:08,074] Finished a trial resulted in value: 0.20903954802259883. Current best value is 0.20903954802259883 with parameters: {'alpha': 0.011355165226968666, 'fit_prior': 'False'}.\n",
      "[I 2018-12-07 15:23:08,098] Finished a trial resulted in value: 0.20903954802259883. Current best value is 0.20903954802259883 with parameters: {'alpha': 0.011355165226968666, 'fit_prior': 'False'}.\n",
      "[I 2018-12-07 15:23:08,121] Finished a trial resulted in value: 0.21468926553672318. Current best value is 0.20903954802259883 with parameters: {'alpha': 0.011355165226968666, 'fit_prior': 'False'}.\n"
     ]
    },
    {
     "name": "stderr",
     "output_type": "stream",
     "text": [
      "[I 2018-12-07 15:23:08,147] Finished a trial resulted in value: 0.20903954802259883. Current best value is 0.20903954802259883 with parameters: {'alpha': 0.011355165226968666, 'fit_prior': 'False'}.\n",
      "[I 2018-12-07 15:23:08,170] Finished a trial resulted in value: 0.20903954802259883. Current best value is 0.20903954802259883 with parameters: {'alpha': 0.011355165226968666, 'fit_prior': 'False'}.\n",
      "[I 2018-12-07 15:23:08,196] Finished a trial resulted in value: 0.21468926553672318. Current best value is 0.20903954802259883 with parameters: {'alpha': 0.011355165226968666, 'fit_prior': 'False'}.\n",
      "[I 2018-12-07 15:23:08,224] Finished a trial resulted in value: 0.20903954802259883. Current best value is 0.20903954802259883 with parameters: {'alpha': 0.011355165226968666, 'fit_prior': 'False'}.\n",
      "[I 2018-12-07 15:23:08,247] Finished a trial resulted in value: 0.22033898305084743. Current best value is 0.20903954802259883 with parameters: {'alpha': 0.011355165226968666, 'fit_prior': 'False'}.\n",
      "[I 2018-12-07 15:23:08,271] Finished a trial resulted in value: 0.20903954802259883. Current best value is 0.20903954802259883 with parameters: {'alpha': 0.011355165226968666, 'fit_prior': 'False'}.\n",
      "[I 2018-12-07 15:23:08,295] Finished a trial resulted in value: 0.21468926553672318. Current best value is 0.20903954802259883 with parameters: {'alpha': 0.011355165226968666, 'fit_prior': 'False'}.\n",
      "[I 2018-12-07 15:23:08,322] Finished a trial resulted in value: 0.21468926553672318. Current best value is 0.20903954802259883 with parameters: {'alpha': 0.011355165226968666, 'fit_prior': 'False'}.\n",
      "[I 2018-12-07 15:23:08,346] Finished a trial resulted in value: 0.20903954802259883. Current best value is 0.20903954802259883 with parameters: {'alpha': 0.011355165226968666, 'fit_prior': 'False'}.\n",
      "[I 2018-12-07 15:23:08,371] Finished a trial resulted in value: 0.20903954802259883. Current best value is 0.20903954802259883 with parameters: {'alpha': 0.011355165226968666, 'fit_prior': 'False'}.\n",
      "[I 2018-12-07 15:23:08,396] Finished a trial resulted in value: 0.20903954802259883. Current best value is 0.20903954802259883 with parameters: {'alpha': 0.011355165226968666, 'fit_prior': 'False'}.\n",
      "[I 2018-12-07 15:23:08,421] Finished a trial resulted in value: 0.21468926553672318. Current best value is 0.20903954802259883 with parameters: {'alpha': 0.011355165226968666, 'fit_prior': 'False'}.\n",
      "[I 2018-12-07 15:23:08,445] Finished a trial resulted in value: 0.21468926553672318. Current best value is 0.20903954802259883 with parameters: {'alpha': 0.011355165226968666, 'fit_prior': 'False'}.\n",
      "[I 2018-12-07 15:23:08,471] Finished a trial resulted in value: 0.22033898305084743. Current best value is 0.20903954802259883 with parameters: {'alpha': 0.011355165226968666, 'fit_prior': 'False'}.\n",
      "[I 2018-12-07 15:23:08,497] Finished a trial resulted in value: 0.21468926553672318. Current best value is 0.20903954802259883 with parameters: {'alpha': 0.011355165226968666, 'fit_prior': 'False'}.\n",
      "[I 2018-12-07 15:23:08,523] Finished a trial resulted in value: 0.20903954802259883. Current best value is 0.20903954802259883 with parameters: {'alpha': 0.011355165226968666, 'fit_prior': 'False'}.\n",
      "[I 2018-12-07 15:23:08,548] Finished a trial resulted in value: 0.22033898305084743. Current best value is 0.20903954802259883 with parameters: {'alpha': 0.011355165226968666, 'fit_prior': 'False'}.\n",
      "[I 2018-12-07 15:23:08,575] Finished a trial resulted in value: 0.21468926553672318. Current best value is 0.20903954802259883 with parameters: {'alpha': 0.011355165226968666, 'fit_prior': 'False'}.\n"
     ]
    },
    {
     "name": "stdout",
     "output_type": "stream",
     "text": [
      "FrozenTrial(trial_id=10, state=<TrialState.COMPLETE: 1>, value=0.20903954802259883, datetime_start=datetime.datetime(2018, 12, 7, 15, 23, 6, 527028), datetime_complete=datetime.datetime(2018, 12, 7, 15, 23, 6, 537695), params={'alpha': 0.011355165226968666, 'fit_prior': 'False'}, user_attrs={}, system_attrs={}, intermediate_values={}, params_in_internal_repr={'alpha': 0.011355165226968666, 'fit_prior': 1})\n"
     ]
    }
   ],
   "source": [
    "study = optuna.create_study()\n",
    "study.optimize(objective, n_trials=100)\n",
    "print(study.best_trial)"
   ]
  },
  {
   "cell_type": "code",
   "execution_count": 17,
   "metadata": {},
   "outputs": [
    {
     "data": {
      "text/plain": [
       "0.7909604519774012"
      ]
     },
     "execution_count": 17,
     "metadata": {},
     "output_type": "execute_result"
    }
   ],
   "source": [
    "1.0 - study.best_value"
   ]
  },
  {
   "cell_type": "code",
   "execution_count": null,
   "metadata": {},
   "outputs": [],
   "source": []
  }
 ],
 "metadata": {
  "kernelspec": {
   "display_name": "Python 3",
   "language": "python",
   "name": "python3"
  },
  "language_info": {
   "codemirror_mode": {
    "name": "ipython",
    "version": 3
   },
   "file_extension": ".py",
   "mimetype": "text/x-python",
   "name": "python",
   "nbconvert_exporter": "python",
   "pygments_lexer": "ipython3",
   "version": "3.5.3"
  }
 },
 "nbformat": 4,
 "nbformat_minor": 2
}
